{
 "cells": [
  {
   "cell_type": "code",
   "execution_count": 1,
   "metadata": {},
   "outputs": [
    {
     "name": "stdout",
     "output_type": "stream",
     "text": [
      "Enter your marks of English out of 100 = 90\n",
      "Enter your marks of Urdu out of 100 = 80\n",
      "Enter your marks of Education out of 100 = 70\n",
      "Enter your marks of Civics out of 100 = 98\n",
      "Enter your marks of Political_science out of 100 = 78\n",
      "Enter your marks of Pakistan Studies out of 100 = 89\n",
      "Enter your marks of Islamiat out of 100 = 90\n",
      "Percentage\n",
      "Total_marks\n",
      "Percentage\n",
      "Total_marks\n",
      "Congratulations! A+\n"
     ]
    }
   ],
   "source": [
    "#Mark_sheet\n",
    "\n",
    "English= int(input(\"Enter your marks of English out of 100 = \"));\n",
    "Urdu= int(input(\"Enter your marks of Urdu out of 100 = \"));\n",
    "Education= int(input(\"Enter your marks of Education out of 100 = \"));\n",
    "Civics= int(input(\"Enter your marks of Civics out of 100 = \"));\n",
    "Political_science= int(input(\"Enter your marks of Political_science out of 100 = \"));\n",
    "Pakistan_Studies= int(input(\"Enter your marks of Pakistan Studies out of 100 = \"));\n",
    "Islamiat= int(input(\"Enter your marks of Islamiat out of 100 = \"));\n",
    "Total_marks= (English+Urdu+Education+Civics+Political_science+Pakistan_Studies+Islamiat)/7\n",
    "print (\"Percentage\")\n",
    "print (\"Total_marks\")\n",
    "\n",
    "if Total_marks >= 80 and Total_marks <=100:\n",
    " print (\"Percentage\")\n",
    " print (\"Total_marks\") \n",
    " print(\"Congratulations! A+\")\n",
    "elif Total_marks >=70 and Total_marks <=80:\n",
    " print (\"Percentage\")\n",
    " print (\"Total_marks\") \n",
    " print(\"Congratulations! A\")\n",
    "elif Total_marks >=60 and Total_marks <=70:\n",
    " print (\"Percentage\")\n",
    " print (\"Total_marks\") \n",
    " print(\"Congratulations! B\")\n",
    "elif Total_marks >=50 and Total_marks <=60:\n",
    " print (\"Percentage\")\n",
    " print (\"Total_marks\") \n",
    " print(\"C\") \n",
    "elif Total_marks >=40 and Total_marks <=50:\n",
    " print (\"Percentage\")\n",
    " print (\"Total_marks\") \n",
    " print(\"D\") \n",
    "elif Total_marks >33 and Total_marks <=40:\n",
    " print (\"Percentage\")\n",
    " print (\"Total_marks\") \n",
    " print(\"E\")\n",
    "elif Total_marks <33 :\n",
    " print (\"Percentage\")\n",
    " print (\"Total_marks\") \n",
    " print(\"F\")\n",
    "else:\n",
    " print(\"you are given improper result\")\n",
    "\n"
   ]
  },
  {
   "cell_type": "code",
   "execution_count": null,
   "metadata": {},
   "outputs": [],
   "source": []
  }
 ],
 "metadata": {
  "kernelspec": {
   "display_name": "Python 3",
   "language": "python",
   "name": "python3"
  },
  "language_info": {
   "codemirror_mode": {
    "name": "ipython",
    "version": 3
   },
   "file_extension": ".py",
   "mimetype": "text/x-python",
   "name": "python",
   "nbconvert_exporter": "python",
   "pygments_lexer": "ipython3",
   "version": "3.7.4"
  }
 },
 "nbformat": 4,
 "nbformat_minor": 2
}
